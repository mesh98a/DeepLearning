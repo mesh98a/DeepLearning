{
  "nbformat": 4,
  "nbformat_minor": 0,
  "metadata": {
    "colab": {
      "provenance": [],
      "authorship_tag": "ABX9TyNpQdqWSwOKgslH7nTwGvm2",
      "include_colab_link": true
    },
    "kernelspec": {
      "name": "python3",
      "display_name": "Python 3"
    },
    "language_info": {
      "name": "python"
    }
  },
  "cells": [
    {
      "cell_type": "markdown",
      "metadata": {
        "id": "view-in-github",
        "colab_type": "text"
      },
      "source": [
        "<a href=\"https://colab.research.google.com/github/mesh98a/DeepLearning/blob/main/Lab2v2.ipynb\" target=\"_parent\"><img src=\"https://colab.research.google.com/assets/colab-badge.svg\" alt=\"Open In Colab\"/></a>"
      ]
    },
    {
      "cell_type": "code",
      "source": [
        "!git clone https://github.com/mesh98a/DeepLearning\n",
        "%cd DeepLearning\n"
      ],
      "metadata": {
        "colab": {
          "base_uri": "https://localhost:8080/"
        },
        "id": "1G5UtYY74NWl",
        "outputId": "ace3b313-459f-490c-c9cb-1551852c4543"
      },
      "execution_count": 68,
      "outputs": [
        {
          "output_type": "stream",
          "name": "stdout",
          "text": [
            "Cloning into 'DeepLearning'...\n",
            "remote: Enumerating objects: 33, done.\u001b[K\n",
            "remote: Counting objects: 100% (33/33), done.\u001b[K\n",
            "remote: Compressing objects: 100% (26/26), done.\u001b[K\n",
            "remote: Total 33 (delta 7), reused 21 (delta 4), pack-reused 0 (from 0)\u001b[K\n",
            "Receiving objects: 100% (33/33), 3.40 MiB | 13.78 MiB/s, done.\n",
            "Resolving deltas: 100% (7/7), done.\n",
            "/content/DeepLearning/DeepLearning/DeepLearning\n"
          ]
        }
      ]
    },
    {
      "cell_type": "code",
      "execution_count": 69,
      "metadata": {
        "id": "RrmEMxkF4JC8"
      },
      "outputs": [],
      "source": [
        "import pandas as pd\n",
        "import numpy as np\n",
        "import matplotlib.pyplot as plt\n",
        "import seaborn as sns\n",
        "import tensorflow as tf\n",
        "from keras import Sequential\n",
        "from keras.layers import Dense\n",
        "from tensorflow.keras.layers import SimpleRNN , Embedding, LSTM , GRu\n",
        "from tensorflow.keras.preprocessing.sequence import pad_sequences\n",
        "from tensorflow.keras.preprocessing.text import Tokenizer\n",
        "from tensorflow.keras.utils import to_categorical"
      ]
    },
    {
      "cell_type": "code",
      "source": [
        "num_words = 10000\n",
        "max_len = 65"
      ],
      "metadata": {
        "id": "k0nIN2lz6DJL"
      },
      "execution_count": 41,
      "outputs": []
    },
    {
      "cell_type": "code",
      "source": [
        "df_train = pd.read_csv('/content/DeepLearning/Data/drugLibTrain_raw.tsv',delimiter='\\t')\n",
        "df_test = pd.read_csv('/content/DeepLearning/Data/drugLibTest_raw.tsv',delimiter='\\t')"
      ],
      "metadata": {
        "id": "d-7wvP8A6aLD"
      },
      "execution_count": 70,
      "outputs": []
    },
    {
      "cell_type": "code",
      "source": [
        "def split_rating(df):\n",
        "  conditions = [\n",
        "    df['rating'] <= 4,\n",
        "    df['rating'].between(5, 7),\n",
        "    df['rating'] >= 8\n",
        "  ]\n",
        "\n",
        "  choices = [0, 1, 2]\n",
        "  df['rating_category'] = np.select(conditions, choices)\n",
        "  return df\n",
        "split_rating(df_train)\n",
        "split_rating(df_test)\n",
        "y_train = df_train['rating_category']\n",
        "y_test = df_test['rating_category']\n",
        "y_train = to_categorical(y_train)\n",
        "y_test = to_categorical(y_test)\n",
        "y_train"
      ],
      "metadata": {
        "colab": {
          "base_uri": "https://localhost:8080/"
        },
        "id": "Fivv4RsX6aT6",
        "outputId": "4956be27-282c-49d1-e7b9-cb6c03900423"
      },
      "execution_count": 162,
      "outputs": [
        {
          "output_type": "execute_result",
          "data": {
            "text/plain": [
              "array([[1., 0., 0.],\n",
              "       [1., 0., 0.],\n",
              "       [0., 0., 1.],\n",
              "       ...,\n",
              "       [1., 0., 0.],\n",
              "       [0., 0., 1.],\n",
              "       [1., 0., 0.]])"
            ]
          },
          "metadata": {},
          "execution_count": 162
        }
      ]
    },
    {
      "cell_type": "code",
      "source": [
        "df_train[\"effectiveness\"].value_counts()"
      ],
      "metadata": {
        "colab": {
          "base_uri": "https://localhost:8080/",
          "height": 272
        },
        "id": "t3bgzTHNTAJn",
        "outputId": "34aebe60-382b-4c19-8d93-ec46bb55615e"
      },
      "execution_count": 170,
      "outputs": [
        {
          "output_type": "execute_result",
          "data": {
            "text/plain": [
              "effectiveness\n",
              "Highly Effective          1330\n",
              "Considerably Effective     928\n",
              "Moderately Effective       415\n",
              "Ineffective                247\n",
              "Marginally Effective       187\n",
              "Name: count, dtype: int64"
            ],
            "text/html": [
              "<div>\n",
              "<style scoped>\n",
              "    .dataframe tbody tr th:only-of-type {\n",
              "        vertical-align: middle;\n",
              "    }\n",
              "\n",
              "    .dataframe tbody tr th {\n",
              "        vertical-align: top;\n",
              "    }\n",
              "\n",
              "    .dataframe thead th {\n",
              "        text-align: right;\n",
              "    }\n",
              "</style>\n",
              "<table border=\"1\" class=\"dataframe\">\n",
              "  <thead>\n",
              "    <tr style=\"text-align: right;\">\n",
              "      <th></th>\n",
              "      <th>count</th>\n",
              "    </tr>\n",
              "    <tr>\n",
              "      <th>effectiveness</th>\n",
              "      <th></th>\n",
              "    </tr>\n",
              "  </thead>\n",
              "  <tbody>\n",
              "    <tr>\n",
              "      <th>Highly Effective</th>\n",
              "      <td>1330</td>\n",
              "    </tr>\n",
              "    <tr>\n",
              "      <th>Considerably Effective</th>\n",
              "      <td>928</td>\n",
              "    </tr>\n",
              "    <tr>\n",
              "      <th>Moderately Effective</th>\n",
              "      <td>415</td>\n",
              "    </tr>\n",
              "    <tr>\n",
              "      <th>Ineffective</th>\n",
              "      <td>247</td>\n",
              "    </tr>\n",
              "    <tr>\n",
              "      <th>Marginally Effective</th>\n",
              "      <td>187</td>\n",
              "    </tr>\n",
              "  </tbody>\n",
              "</table>\n",
              "</div><br><label><b>dtype:</b> int64</label>"
            ]
          },
          "metadata": {},
          "execution_count": 170
        }
      ]
    },
    {
      "cell_type": "code",
      "source": [
        "#X_train_text = df_train['commentsReview'].fillna('')\n",
        "#X_test_text = df_test['commentsReview'].fillna('')\n",
        "#X_train_text.head()"
      ],
      "metadata": {
        "colab": {
          "base_uri": "https://localhost:8080/",
          "height": 241
        },
        "id": "gaKSYgzu6msA",
        "outputId": "fb5270a4-338b-4810-acd7-51fd0264c40d"
      },
      "execution_count": 85,
      "outputs": [
        {
          "output_type": "execute_result",
          "data": {
            "text/plain": [
              "0    monitor blood pressure , weight and asses for ...\n",
              "1    I Hate This Birth Control, I Would Not Suggest...\n",
              "2    I took 2 pills at the onset of my menstrual cr...\n",
              "3    I was given Prilosec prescription at a dose of...\n",
              "4                                            See above\n",
              "Name: commentsReview, dtype: object"
            ],
            "text/html": [
              "<div>\n",
              "<style scoped>\n",
              "    .dataframe tbody tr th:only-of-type {\n",
              "        vertical-align: middle;\n",
              "    }\n",
              "\n",
              "    .dataframe tbody tr th {\n",
              "        vertical-align: top;\n",
              "    }\n",
              "\n",
              "    .dataframe thead th {\n",
              "        text-align: right;\n",
              "    }\n",
              "</style>\n",
              "<table border=\"1\" class=\"dataframe\">\n",
              "  <thead>\n",
              "    <tr style=\"text-align: right;\">\n",
              "      <th></th>\n",
              "      <th>commentsReview</th>\n",
              "    </tr>\n",
              "  </thead>\n",
              "  <tbody>\n",
              "    <tr>\n",
              "      <th>0</th>\n",
              "      <td>monitor blood pressure , weight and asses for ...</td>\n",
              "    </tr>\n",
              "    <tr>\n",
              "      <th>1</th>\n",
              "      <td>I Hate This Birth Control, I Would Not Suggest...</td>\n",
              "    </tr>\n",
              "    <tr>\n",
              "      <th>2</th>\n",
              "      <td>I took 2 pills at the onset of my menstrual cr...</td>\n",
              "    </tr>\n",
              "    <tr>\n",
              "      <th>3</th>\n",
              "      <td>I was given Prilosec prescription at a dose of...</td>\n",
              "    </tr>\n",
              "    <tr>\n",
              "      <th>4</th>\n",
              "      <td>See above</td>\n",
              "    </tr>\n",
              "  </tbody>\n",
              "</table>\n",
              "</div><br><label><b>dtype:</b> object</label>"
            ]
          },
          "metadata": {},
          "execution_count": 85
        }
      ]
    },
    {
      "cell_type": "code",
      "source": [
        "def combine_reviews(df):\n",
        "    return (\n",
        "        df['benefitsReview'].fillna('') + ' ' +\n",
        "        df['sideEffectsReview'].fillna('') + ' ' +\n",
        "        df['commentsReview'].fillna('')\n",
        "    )\n",
        "X_train_text = combine_reviews(df_train)\n",
        "X_test_text = combine_reviews(df_test)\n",
        "print(X_train_text[0])"
      ],
      "metadata": {
        "colab": {
          "base_uri": "https://localhost:8080/"
        },
        "id": "ygcAzHUPLeZ9",
        "outputId": "65ba4c71-f1e9-4905-92de-60b61b06981d"
      },
      "execution_count": 163,
      "outputs": [
        {
          "output_type": "stream",
          "name": "stdout",
          "text": [
            "slowed the progression of left ventricular dysfunction into overt heart failure \r\r\n",
            "alone or with other agents in the managment of hypertension \r\r\n",
            "mangagement of congestive heart failur cough, hypotension , proteinuria, impotence , renal failure , angina pectoris , tachycardia , eosinophilic pneumonitis, tastes disturbances , anusease anorecia , weakness fatigue insominca weakness monitor blood pressure , weight and asses for resolution of fluid\n"
          ]
        }
      ]
    },
    {
      "cell_type": "code",
      "source": [
        "tokenizer = Tokenizer(num_words=num_words)\n",
        "tokenizer.fit_on_texts(X_train_text)"
      ],
      "metadata": {
        "id": "nam0JU2t7mh2"
      },
      "execution_count": 137,
      "outputs": []
    },
    {
      "cell_type": "code",
      "source": [
        "tokenizer.word_index\n",
        "sequences_train = tokenizer.texts_to_sequences(X_train_text)\n",
        "sequences_test = tokenizer.texts_to_sequences(X_test_text)"
      ],
      "metadata": {
        "id": "pUOWqnqm7sZ7"
      },
      "execution_count": 138,
      "outputs": []
    },
    {
      "cell_type": "code",
      "source": [
        "seq_lengths = [len(seq) for seq in sequences_train]\n",
        "\n",
        "plt.hist(seq_lengths, bins=20)\n",
        "plt.xlabel('Sequenzlänge')\n",
        "plt.ylabel('Anzahl')\n",
        "plt.title('Verteilung der Sequenzlängen')\n",
        "plt.show()\n",
        "max_len = int(np.percentile(seq_lengths, 75))\n",
        "print(max_len)"
      ],
      "metadata": {
        "colab": {
          "base_uri": "https://localhost:8080/",
          "height": 490
        },
        "id": "WS0GpzdV83Vw",
        "outputId": "f85fa4ca-78d0-41a5-be3b-d97fb94b3f08"
      },
      "execution_count": 139,
      "outputs": [
        {
          "output_type": "display_data",
          "data": {
            "text/plain": [
              "<Figure size 640x480 with 1 Axes>"
            ],
            "image/png": "[encoded data removed]"
          },
          "metadata": {}
        },
        {
          "output_type": "stream",
          "name": "stdout",
          "text": [
            "146\n"
          ]
        }
      ]
    },
    {
      "cell_type": "code",
      "source": [
        "print(X_train_text[5])\n",
        "print(sequences_train[0])"
      ],
      "metadata": {
        "colab": {
          "base_uri": "https://localhost:8080/"
        },
        "id": "3xbOohj7797P",
        "outputId": "2b05afc3-b3b6-4d19-ed2d-6b70a49c0780"
      },
      "execution_count": 140,
      "outputs": [
        {
          "output_type": "stream",
          "name": "stdout",
          "text": [
            "after taking propecia for over a year, starting when i was 20 years of age my hair continued to thin, and i noticed no significant benefits Low sex drive, before i started taking this drug i was 19 years of age and full of \"enthousiasm\". Now engaged and 21 years old, my sex drive is very low, my wife and I are very unsatisfied. I am also very tired even during peak hours throughout the day, and its hard to concentrate on mundain tasks one pill once daily\n",
            "[1190, 2, 2185, 6, 417, 7601, 1899, 236, 4702, 251, 2186, 44, 820, 31, 14, 85, 3563, 10, 2, 7602, 6, 1636, 44, 7603, 6, 4009, 251, 7604, 521, 5705, 7605, 3253, 4010, 2186, 5706, 7606, 2078, 5707, 7607, 4011, 2450, 7608, 7609, 1250, 342, 7610, 1250, 2187, 123, 192, 121, 4, 7611, 11, 3564, 6, 1431]\n"
          ]
        }
      ]
    },
    {
      "cell_type": "code",
      "source": [
        "X_train_pad = pad_sequences(sequences_train, maxlen=max_len)\n",
        "X_test_pad = pad_sequences(sequences_test, maxlen=max_len)"
      ],
      "metadata": {
        "id": "qkm_mysW8G-I"
      },
      "execution_count": 141,
      "outputs": []
    },
    {
      "cell_type": "code",
      "source": [
        "X_train_pad[0]"
      ],
      "metadata": {
        "colab": {
          "base_uri": "https://localhost:8080/"
        },
        "id": "Qe-kw1V78Xhm",
        "outputId": "399f24fa-63b5-4af0-a53d-5465064730a5"
      },
      "execution_count": 168,
      "outputs": [
        {
          "output_type": "execute_result",
          "data": {
            "text/plain": [
              "array([   0,    0,    0,    0,    0,    0,    0,    0,    0,    0,    0,\n",
              "          0,    0,    0,    0,    0,    0,    0,    0,    0,    0,    0,\n",
              "          0,    0,    0,    0,    0,    0,    0,    0,    0,    0,    0,\n",
              "          0,    0,    0,    0,    0,    0,    0,    0,    0,    0,    0,\n",
              "          0,    0,    0,    0,    0,    0,    0,    0,    0,    0,    0,\n",
              "          0,    0,    0,    0,    0,    0,    0,    0,    0,    0,    0,\n",
              "          0,    0,    0,    0,    0,    0,    0,    0,    0,    0,    0,\n",
              "          0,    0,    0,    0,    0,    0,    0,    0,    0,    0,    0,\n",
              "          0, 1190,    2, 2185,    6,  417, 7601, 1899,  236, 4702,  251,\n",
              "       2186,   44,  820,   31,   14,   85, 3563,   10,    2, 7602,    6,\n",
              "       1636,   44, 7603,    6, 4009,  251, 7604,  521, 5705, 7605, 3253,\n",
              "       4010, 2186, 5706, 7606, 2078, 5707, 7607, 4011, 2450, 7608, 7609,\n",
              "       1250,  342, 7610, 1250, 2187,  123,  192,  121,    4, 7611,   11,\n",
              "       3564,    6, 1431], dtype=int32)"
            ]
          },
          "metadata": {},
          "execution_count": 168
        }
      ]
    },
    {
      "cell_type": "markdown",
      "source": [
        "LSTM"
      ],
      "metadata": {
        "id": "xlnG9qm24e-0"
      }
    },
    {
      "cell_type": "code",
      "source": [
        "model_lstm = Sequential()\n",
        "model_lstm.add(Embedding(num_words, 64, input_length=148))\n",
        "model_lstm.add(LSTM(16))\n",
        "model_lstm.add(Dense(3, activation='softmax'))\n",
        "\n",
        "model_lstm.compile(optimizer='adam', loss='categorical_crossentropy', metrics=['accuracy'])\n"
      ],
      "metadata": {
        "colab": {
          "base_uri": "https://localhost:8080/"
        },
        "id": "-rehPZ1--4ZR",
        "outputId": "82356855-240c-4d35-db57-a8cd1e72fba9"
      },
      "execution_count": 157,
      "outputs": [
        {
          "output_type": "stream",
          "name": "stderr",
          "text": [
            "/usr/local/lib/python3.11/dist-packages/keras/src/layers/core/embedding.py:90: UserWarning: Argument `input_length` is deprecated. Just remove it.\n",
            "  warnings.warn(\n"
          ]
        }
      ]
    },
    {
      "cell_type": "code",
      "source": [
        "from sklearn.utils.class_weight import compute_class_weight\n",
        "\n",
        "# Get the original integer labels for computing class weights\n",
        "# The original integer labels are stored in df_train['rating_category']\n",
        "class_weights = compute_class_weight('balanced', classes=np.unique(df_train['rating_category']), y=df_train['rating_category'])\n",
        "class_weights = dict(enumerate(class_weights))\n",
        "\n",
        "# The rest of your code remains the same:\n",
        "# y_train and y_test are already one-hot encoded for the model\n",
        "# history = model_lstm.fit(X_train_pad, y_train, epochs=7, batch_size=128, validation_split=0.1,class_weight=class_weights)"
      ],
      "metadata": {
        "id": "a20Y066hP9e0"
      },
      "execution_count": 158,
      "outputs": []
    },
    {
      "cell_type": "code",
      "source": [
        "history = model_lstm.fit(X_train_pad, y_train, epochs=7, batch_size=128, validation_split=0.1,class_weight=class_weights)"
      ],
      "metadata": {
        "colab": {
          "base_uri": "https://localhost:8080/"
        },
        "id": "K4PIXEDI5pry",
        "outputId": "ba82a769-477f-41f9-b743-19d7c895023b"
      },
      "execution_count": 159,
      "outputs": [
        {
          "output_type": "stream",
          "name": "stdout",
          "text": [
            "Epoch 1/7\n",
            "\u001b[1m22/22\u001b[0m \u001b[32m━━━━━━━━━━━━━━━━━━━━\u001b[0m\u001b[37m\u001b[0m \u001b[1m5s\u001b[0m 122ms/step - accuracy: 0.2988 - loss: 1.1051 - val_accuracy: 0.3955 - val_loss: 1.0905\n",
            "Epoch 2/7\n",
            "\u001b[1m22/22\u001b[0m \u001b[32m━━━━━━━━━━━━━━━━━━━━\u001b[0m\u001b[37m\u001b[0m \u001b[1m2s\u001b[0m 110ms/step - accuracy: 0.6076 - loss: 1.0711 - val_accuracy: 0.4437 - val_loss: 1.0730\n",
            "Epoch 3/7\n",
            "\u001b[1m22/22\u001b[0m \u001b[32m━━━━━━━━━━━━━━━━━━━━\u001b[0m\u001b[37m\u001b[0m \u001b[1m2s\u001b[0m 84ms/step - accuracy: 0.6558 - loss: 1.0084 - val_accuracy: 0.5466 - val_loss: 0.9775\n",
            "Epoch 4/7\n",
            "\u001b[1m22/22\u001b[0m \u001b[32m━━━━━━━━━━━━━━━━━━━━\u001b[0m\u001b[37m\u001b[0m \u001b[1m2s\u001b[0m 84ms/step - accuracy: 0.7468 - loss: 0.8066 - val_accuracy: 0.5305 - val_loss: 0.9718\n",
            "Epoch 5/7\n",
            "\u001b[1m22/22\u001b[0m \u001b[32m━━━━━━━━━━━━━━━━━━━━\u001b[0m\u001b[37m\u001b[0m \u001b[1m2s\u001b[0m 81ms/step - accuracy: 0.7986 - loss: 0.6338 - val_accuracy: 0.4662 - val_loss: 1.0240\n",
            "Epoch 6/7\n",
            "\u001b[1m22/22\u001b[0m \u001b[32m━━━━━━━━━━━━━━━━━━━━\u001b[0m\u001b[37m\u001b[0m \u001b[1m2s\u001b[0m 79ms/step - accuracy: 0.8081 - loss: 0.4679 - val_accuracy: 0.5498 - val_loss: 1.0210\n",
            "Epoch 7/7\n",
            "\u001b[1m22/22\u001b[0m \u001b[32m━━━━━━━━━━━━━━━━━━━━\u001b[0m\u001b[37m\u001b[0m \u001b[1m2s\u001b[0m 114ms/step - accuracy: 0.8953 - loss: 0.3180 - val_accuracy: 0.5402 - val_loss: 1.0725\n"
          ]
        }
      ]
    },
    {
      "cell_type": "code",
      "source": [
        "plt.plot(history.history['accuracy'])\n",
        "plt.plot(history.history['val_accuracy'])\n",
        "plt.title('Model Accuracy')\n",
        "plt.ylabel('Accuracy')\n",
        "plt.xlabel('Epoch')\n",
        "scores = model_lstm.evaluate(X_test_pad, y_test)"
      ],
      "metadata": {
        "colab": {
          "base_uri": "https://localhost:8080/",
          "height": 490
        },
        "id": "9ktgx4kT_Q6s",
        "outputId": "70aea3bf-21f8-4150-a6d1-c9cda60fadf2"
      },
      "execution_count": 160,
      "outputs": [
        {
          "output_type": "stream",
          "name": "stdout",
          "text": [
            "\u001b[1m33/33\u001b[0m \u001b[32m━━━━━━━━━━━━━━━━━━━━\u001b[0m\u001b[37m\u001b[0m \u001b[1m0s\u001b[0m 13ms/step - accuracy: 0.5027 - loss: 1.1529\n"
          ]
        },
        {
          "output_type": "display_data",
          "data": {
            "text/plain": [
              "<Figure size 640x480 with 1 Axes>"
            ],
            "image/png": "[encoded data removed]"
          },
          "metadata": {}
        }
      ]
    },
    {
      "cell_type": "code",
      "source": [
        "from sklearn.metrics import classification_report\n",
        "\n",
        "y_pred = model_lstm.predict(X_test_pad).argmax(axis=1)\n",
        "y_test_multiclass = y_test.argmax(axis=1)\n",
        "print(classification_report(y_test_multiclass, y_pred))"
      ],
      "metadata": {
        "colab": {
          "base_uri": "https://localhost:8080/"
        },
        "id": "em034GEx_gXf",
        "outputId": "21258e88-c120-4ce0-df7a-07e88fe931b9"
      },
      "execution_count": 161,
      "outputs": [
        {
          "output_type": "stream",
          "name": "stdout",
          "text": [
            "\u001b[1m33/33\u001b[0m \u001b[32m━━━━━━━━━━━━━━━━━━━━\u001b[0m\u001b[37m\u001b[0m \u001b[1m1s\u001b[0m 18ms/step\n",
            "              precision    recall  f1-score   support\n",
            "\n",
            "           0       0.59      0.47      0.53       241\n",
            "           1       0.29      0.42      0.35       246\n",
            "           2       0.65      0.58      0.61       549\n",
            "\n",
            "    accuracy                           0.52      1036\n",
            "   macro avg       0.51      0.49      0.49      1036\n",
            "weighted avg       0.55      0.52      0.53      1036\n",
            "\n"
          ]
        }
      ]
    },
    {
      "cell_type": "code",
      "source": [
        "from sklearn.metrics import confusion_matrix\n",
        "import matplotlib.pyplot as plt\n",
        "import seaborn as sns\n",
        "\n",
        "cm = confusion_matrix(y_test_multiclass, y_pred)\n",
        "print(cm)\n",
        "plt.figure(figsize=(6,5))\n",
        "sns.heatmap(cm, annot=True, fmt='d', cmap='Blues', xticklabels=['schlecht','mittel','gut'], yticklabels=['schlecht','mittel','gut'])\n",
        "plt.xlabel('Vorhergesagte Klasse')\n",
        "plt.ylabel('Wahre Klasse')\n",
        "plt.title('Confusion Matrix')\n",
        "plt.show()\n",
        "\n"
      ],
      "metadata": {
        "colab": {
          "base_uri": "https://localhost:8080/",
          "height": 542
        },
        "id": "V8hpb6F9R2Ag",
        "outputId": "6e8b1ed8-6749-4d89-b1e2-c1a851159804"
      },
      "execution_count": 167,
      "outputs": [
        {
          "output_type": "stream",
          "name": "stdout",
          "text": [
            "[[114  65  62]\n",
            " [ 31 104 111]\n",
            " [ 47 185 317]]\n"
          ]
        },
        {
          "output_type": "display_data",
          "data": {
            "text/plain": [
              "<Figure size 600x500 with 2 Axes>"
            ],
            "image/png": "[encoded data removed]"
          },
          "metadata": {}
        }
      ]
    },
    {
      "cell_type": "markdown",
      "source": [
        "GRU\n"
      ],
      "metadata": {
        "id": "c5dnda_KONYg"
      }
    },
    {
      "cell_type": "code",
      "source": [
        "\n",
        "\n",
        "model_gru = Sequential()\n",
        "model_gru.add(Embedding(num_words, 64, input_length=148))\n",
        "model_gru.add(GRU(16))\n",
        "model_gru.add(Dense(3, activation='softmax'))\n",
        "\n",
        "model_gru.compile(optimizer='adam', loss='categorical_crossentropy', metrics=['accuracy'])\n",
        "model_gru.summary()\n",
        "\n",
        "history_gru = model_gru.fit(X_train_pad, y_train, epochs=7, batch_size=128, validation_split=0.1)\n",
        "\n",
        "plt.plot(history_gru.history['accuracy'])\n",
        "plt.plot(history_gru.history['val_accuracy'])\n",
        "plt.title('GRU Model Accuracy')\n",
        "plt.ylabel('Accuracy')\n",
        "plt.xlabel('Epoch')\n",
        "plt.legend(['train', 'validation'], loc='upper left')\n",
        "plt.show()\n",
        "\n",
        "scores_gru = model_gru.evaluate(X_test_pad, y_test)\n",
        "print(f'GRU Test loss: {scores_gru[0]:.3f}')\n",
        "print(f'GRU Test accuracy: {scores_gru[1]:.3f}')\n",
        "\n",
        "\n",
        "y_pred_gru = model_gru.predict(X_test_pad).argmax(axis=1)\n",
        "y_test_multiclass = y_test.argmax(axis=1)\n",
        "print(\"Classification Report for GRU Model:\")\n",
        "print(classification_report(y_test_multiclass, y_pred_gru))"
      ],
      "metadata": {
        "colab": {
          "base_uri": "https://localhost:8080/",
          "height": 1000
        },
        "id": "pEuFAR8C_p71",
        "outputId": "ea61b9d3-fa34-4ed0-c99b-a6ea6090b265"
      },
      "execution_count": 151,
      "outputs": [
        {
          "output_type": "stream",
          "name": "stderr",
          "text": [
            "/usr/local/lib/python3.11/dist-packages/keras/src/layers/core/embedding.py:90: UserWarning: Argument `input_length` is deprecated. Just remove it.\n",
            "  warnings.warn(\n"
          ]
        },
        {
          "output_type": "display_data",
          "data": {
            "text/plain": [
              "\u001b[1mModel: \"sequential_23\"\u001b[0m\n"
            ],
            "text/html": [
              "<pre style=\"white-space:pre;overflow-x:auto;line-height:normal;font-family:Menlo,'DejaVu Sans Mono',consolas,'Courier New',monospace\"><span style=\"font-weight: bold\">Model: \"sequential_23\"</span>\n",
              "</pre>\n"
            ]
          },
          "metadata": {}
        },
        {
          "output_type": "display_data",
          "data": {
            "text/plain": [
              "┏━━━━━━━━━━━━━━━━━━━━━━━━━━━━━━━━━┳━━━━━━━━━━━━━━━━━━━━━━━━┳━━━━━━━━━━━━━━━┓\n",
              "┃\u001b[1m \u001b[0m\u001b[1mLayer (type)                   \u001b[0m\u001b[1m \u001b[0m┃\u001b[1m \u001b[0m\u001b[1mOutput Shape          \u001b[0m\u001b[1m \u001b[0m┃\u001b[1m \u001b[0m\u001b[1m      Param #\u001b[0m\u001b[1m \u001b[0m┃\n",
              "┡━━━━━━━━━━━━━━━━━━━━━━━━━━━━━━━━━╇━━━━━━━━━━━━━━━━━━━━━━━━╇━━━━━━━━━━━━━━━┩\n",
              "│ embedding_22 (\u001b[38;5;33mEmbedding\u001b[0m)        │ ?                      │   \u001b[38;5;34m0\u001b[0m (unbuilt) │\n",
              "├─────────────────────────────────┼────────────────────────┼───────────────┤\n",
              "│ gru_3 (\u001b[38;5;33mGRU\u001b[0m)                     │ ?                      │   \u001b[38;5;34m0\u001b[0m (unbuilt) │\n",
              "├─────────────────────────────────┼────────────────────────┼───────────────┤\n",
              "│ dense_22 (\u001b[38;5;33mDense\u001b[0m)                │ ?                      │   \u001b[38;5;34m0\u001b[0m (unbuilt) │\n",
              "└─────────────────────────────────┴────────────────────────┴───────────────┘\n"
            ],
            "text/html": [
              "<pre style=\"white-space:pre;overflow-x:auto;line-height:normal;font-family:Menlo,'DejaVu Sans Mono',consolas,'Courier New',monospace\">┏━━━━━━━━━━━━━━━━━━━━━━━━━━━━━━━━━┳━━━━━━━━━━━━━━━━━━━━━━━━┳━━━━━━━━━━━━━━━┓\n",
              "┃<span style=\"font-weight: bold\"> Layer (type)                    </span>┃<span style=\"font-weight: bold\"> Output Shape           </span>┃<span style=\"font-weight: bold\">       Param # </span>┃\n",
              "┡━━━━━━━━━━━━━━━━━━━━━━━━━━━━━━━━━╇━━━━━━━━━━━━━━━━━━━━━━━━╇━━━━━━━━━━━━━━━┩\n",
              "│ embedding_22 (<span style=\"color: #0087ff; text-decoration-color: #0087ff\">Embedding</span>)        │ ?                      │   <span style=\"color: #00af00; text-decoration-color: #00af00\">0</span> (unbuilt) │\n",
              "├─────────────────────────────────┼────────────────────────┼───────────────┤\n",
              "│ gru_3 (<span style=\"color: #0087ff; text-decoration-color: #0087ff\">GRU</span>)                     │ ?                      │   <span style=\"color: #00af00; text-decoration-color: #00af00\">0</span> (unbuilt) │\n",
              "├─────────────────────────────────┼────────────────────────┼───────────────┤\n",
              "│ dense_22 (<span style=\"color: #0087ff; text-decoration-color: #0087ff\">Dense</span>)                │ ?                      │   <span style=\"color: #00af00; text-decoration-color: #00af00\">0</span> (unbuilt) │\n",
              "└─────────────────────────────────┴────────────────────────┴───────────────┘\n",
              "</pre>\n"
            ]
          },
          "metadata": {}
        },
        {
          "output_type": "display_data",
          "data": {
            "text/plain": [
              "\u001b[1m Total params: \u001b[0m\u001b[38;5;34m0\u001b[0m (0.00 B)\n"
            ],
            "text/html": [
              "<pre style=\"white-space:pre;overflow-x:auto;line-height:normal;font-family:Menlo,'DejaVu Sans Mono',consolas,'Courier New',monospace\"><span style=\"font-weight: bold\"> Total params: </span><span style=\"color: #00af00; text-decoration-color: #00af00\">0</span> (0.00 B)\n",
              "</pre>\n"
            ]
          },
          "metadata": {}
        },
        {
          "output_type": "display_data",
          "data": {
            "text/plain": [
              "\u001b[1m Trainable params: \u001b[0m\u001b[38;5;34m0\u001b[0m (0.00 B)\n"
            ],
            "text/html": [
              "<pre style=\"white-space:pre;overflow-x:auto;line-height:normal;font-family:Menlo,'DejaVu Sans Mono',consolas,'Courier New',monospace\"><span style=\"font-weight: bold\"> Trainable params: </span><span style=\"color: #00af00; text-decoration-color: #00af00\">0</span> (0.00 B)\n",
              "</pre>\n"
            ]
          },
          "metadata": {}
        },
        {
          "output_type": "display_data",
          "data": {
            "text/plain": [
              "\u001b[1m Non-trainable params: \u001b[0m\u001b[38;5;34m0\u001b[0m (0.00 B)\n"
            ],
            "text/html": [
              "<pre style=\"white-space:pre;overflow-x:auto;line-height:normal;font-family:Menlo,'DejaVu Sans Mono',consolas,'Courier New',monospace\"><span style=\"font-weight: bold\"> Non-trainable params: </span><span style=\"color: #00af00; text-decoration-color: #00af00\">0</span> (0.00 B)\n",
              "</pre>\n"
            ]
          },
          "metadata": {}
        },
        {
          "output_type": "stream",
          "name": "stdout",
          "text": [
            "Epoch 1/7\n",
            "\u001b[1m22/22\u001b[0m \u001b[32m━━━━━━━━━━━━━━━━━━━━\u001b[0m\u001b[37m\u001b[0m \u001b[1m6s\u001b[0m 130ms/step - accuracy: 0.5002 - loss: 1.0759 - val_accuracy: 0.5820 - val_loss: 1.0044\n",
            "Epoch 2/7\n",
            "\u001b[1m22/22\u001b[0m \u001b[32m━━━━━━━━━━━━━━━━━━━━\u001b[0m\u001b[37m\u001b[0m \u001b[1m3s\u001b[0m 145ms/step - accuracy: 0.5553 - loss: 0.9823 - val_accuracy: 0.5820 - val_loss: 0.9665\n",
            "Epoch 3/7\n",
            "\u001b[1m22/22\u001b[0m \u001b[32m━━━━━━━━━━━━━━━━━━━━\u001b[0m\u001b[37m\u001b[0m \u001b[1m4s\u001b[0m 107ms/step - accuracy: 0.5612 - loss: 0.9298 - val_accuracy: 0.5852 - val_loss: 0.9670\n",
            "Epoch 4/7\n",
            "\u001b[1m22/22\u001b[0m \u001b[32m━━━━━━━━━━━━━━━━━━━━\u001b[0m\u001b[37m\u001b[0m \u001b[1m3s\u001b[0m 108ms/step - accuracy: 0.6005 - loss: 0.8403 - val_accuracy: 0.5723 - val_loss: 0.9847\n",
            "Epoch 5/7\n",
            "\u001b[1m22/22\u001b[0m \u001b[32m━━━━━━━━━━━━━━━━━━━━\u001b[0m\u001b[37m\u001b[0m \u001b[1m3s\u001b[0m 124ms/step - accuracy: 0.6703 - loss: 0.7483 - val_accuracy: 0.5466 - val_loss: 1.0341\n",
            "Epoch 6/7\n",
            "\u001b[1m22/22\u001b[0m \u001b[32m━━━━━━━━━━━━━━━━━━━━\u001b[0m\u001b[37m\u001b[0m \u001b[1m5s\u001b[0m 133ms/step - accuracy: 0.7359 - loss: 0.6216 - val_accuracy: 0.5402 - val_loss: 1.1268\n",
            "Epoch 7/7\n",
            "\u001b[1m22/22\u001b[0m \u001b[32m━━━━━━━━━━━━━━━━━━━━\u001b[0m\u001b[37m\u001b[0m \u001b[1m6s\u001b[0m 168ms/step - accuracy: 0.8187 - loss: 0.4862 - val_accuracy: 0.5595 - val_loss: 1.1982\n"
          ]
        },
        {
          "output_type": "display_data",
          "data": {
            "text/plain": [
              "<Figure size 640x480 with 1 Axes>"
            ],
            "image/png": "[encoded data removed]"
          },
          "metadata": {}
        },
        {
          "output_type": "stream",
          "name": "stdout",
          "text": [
            "\u001b[1m33/33\u001b[0m \u001b[32m━━━━━━━━━━━━━━━━━━━━\u001b[0m\u001b[37m\u001b[0m \u001b[1m1s\u001b[0m 34ms/step - accuracy: 0.5160 - loss: 1.2833\n",
            "GRU Test loss: 1.270\n",
            "GRU Test accuracy: 0.515\n",
            "\u001b[1m33/33\u001b[0m \u001b[32m━━━━━━━━━━━━━━━━━━━━\u001b[0m\u001b[37m\u001b[0m \u001b[1m2s\u001b[0m 38ms/step\n",
            "Classification Report for GRU Model:\n",
            "              precision    recall  f1-score   support\n",
            "\n",
            "           0       0.37      0.32      0.34       241\n",
            "           1       0.34      0.12      0.17       246\n",
            "           2       0.57      0.78      0.66       549\n",
            "\n",
            "    accuracy                           0.52      1036\n",
            "   macro avg       0.43      0.40      0.39      1036\n",
            "weighted avg       0.47      0.52      0.47      1036\n",
            "\n"
          ]
        }
      ]
    },
    {
      "cell_type": "code",
      "source": [],
      "metadata": {
        "id": "qcfXT4C5N-e_"
      },
      "execution_count": null,
      "outputs": []
    }
  ]
}